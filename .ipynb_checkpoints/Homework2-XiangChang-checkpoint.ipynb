{
 "cells": [
  {
   "cell_type": "markdown",
   "id": "d156c4ac-c967-4bf9-85ea-e7603a8c57ba",
   "metadata": {},
   "source": [
    "# 机器学习与深度学习 第二次作业\n",
    "**常响 3022210027**\n",
    "本项目地址：\n",
    "## 任务概要\n",
    "### 环境\n",
    "Ubuntu LTS 24.04\n",
    "GPU/Driver：4090/560.35.03\n",
    "Cuda: 12.6\n",
    "Pytorch: 2.5.1\n",
    "\n",
    "### 任务概要\n",
    "1. 在两个建议的数据集上微调模型（LeNet-5）的架构，并观察模型结果\n",
    "2. 在两个建议的数据集上微调模型（LeNet-5）的归一化方法与Batch-size，并观察模型结果\n",
    "3. 分析不同优化方法下的模型训练结果\n",
    "4. 尝试两种视觉注意力机制，并比较不同注意力机制的识别精度\n",
    "\n",
    "## 数据下载与预处理"
   ]
  },
  {
   "cell_type": "code",
   "execution_count": null,
   "id": "a5b37448-28a6-43bd-9d9d-18975322b5c5",
   "metadata": {},
   "outputs": [],
   "source": [
    "# 下载数据集 CIFAR-100\n",
    "\n",
    "# 下载数据集 Tiny-ImageNet-200\n"
   ]
  },
  {
   "cell_type": "code",
   "execution_count": null,
   "id": "0ca9a2ad-95b8-48f3-8f06-6f00d0dce7c8",
   "metadata": {},
   "outputs": [],
   "source": []
  }
 ],
 "metadata": {
  "kernelspec": {
   "display_name": "Python 3 (ipykernel)",
   "language": "python",
   "name": "python3"
  },
  "language_info": {
   "codemirror_mode": {
    "name": "ipython",
    "version": 3
   },
   "file_extension": ".py",
   "mimetype": "text/x-python",
   "name": "python",
   "nbconvert_exporter": "python",
   "pygments_lexer": "ipython3",
   "version": "3.12.3"
  }
 },
 "nbformat": 4,
 "nbformat_minor": 5
}
